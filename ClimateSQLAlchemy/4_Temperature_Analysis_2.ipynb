{
 "cells": [
  {
   "cell_type": "code",
   "execution_count": 1,
   "metadata": {},
   "outputs": [],
   "source": [
    "%matplotlib inline\n",
    "from matplotlib import style\n",
    "style.use('fivethirtyeight')\n",
    "import matplotlib.pyplot as plt"
   ]
  },
  {
   "cell_type": "code",
   "execution_count": 2,
   "metadata": {},
   "outputs": [],
   "source": [
    "import numpy as np\n",
    "import pandas as pd\n",
    "import datetime as dt\n",
    "from dateutil.relativedelta import relativedelta"
   ]
  },
  {
   "cell_type": "markdown",
   "metadata": {},
   "source": [
    "## Reflect Tables into SQLALchemy ORM"
   ]
  },
  {
   "cell_type": "code",
   "execution_count": 3,
   "metadata": {},
   "outputs": [],
   "source": [
    "# Python SQL toolkit and Object Relational Mapper\n",
    "import sqlalchemy\n",
    "from sqlalchemy.ext.automap import automap_base\n",
    "from sqlalchemy.orm import Session\n",
    "from sqlalchemy import create_engine, func"
   ]
  },
  {
   "cell_type": "code",
   "execution_count": 4,
   "metadata": {},
   "outputs": [],
   "source": [
    "# create engine to hawaii.sqlite\n",
    "engine = create_engine(\"sqlite:///Resources/hawaii.sqlite\")"
   ]
  },
  {
   "cell_type": "code",
   "execution_count": 5,
   "metadata": {},
   "outputs": [],
   "source": [
    "# reflect an existing database into a new model\n",
    "Base = automap_base()\n",
    "# reflect the tables\n",
    "Base.prepare(engine, reflect=True)"
   ]
  },
  {
   "cell_type": "code",
   "execution_count": 6,
   "metadata": {},
   "outputs": [
    {
     "data": {
      "text/plain": [
       "['measurement', 'station']"
      ]
     },
     "execution_count": 6,
     "metadata": {},
     "output_type": "execute_result"
    }
   ],
   "source": [
    "# View all of the classes that automap found\n",
    "Base.classes.keys()"
   ]
  },
  {
   "cell_type": "code",
   "execution_count": 7,
   "metadata": {},
   "outputs": [],
   "source": [
    "# Save references to each table\n",
    "Measurement = Base.classes.measurement\n",
    "Station = Base.classes.station"
   ]
  },
  {
   "cell_type": "code",
   "execution_count": 8,
   "metadata": {},
   "outputs": [],
   "source": [
    "# Create our session (link) from Python to the DB\n",
    "session = Session(engine)"
   ]
  },
  {
   "cell_type": "markdown",
   "metadata": {},
   "source": [
    "## Bonus Challenge Assignment: Temperature Analysis II"
   ]
  },
  {
   "cell_type": "code",
   "execution_count": 9,
   "metadata": {},
   "outputs": [],
   "source": [
    "# This function called `calc_temps` will accept start date and end date in the format '%Y-%m-%d' \n",
    "# and return the minimum, maximum, and average temperatures for that range of dates\n",
    "def calc_temps(start_date, end_date):\n",
    "    \"\"\"TMIN, TAVG, and TMAX for a list of dates.\n",
    "    \n",
    "    Args:\n",
    "        start_date (string): A date string in the format %Y-%m-%d\n",
    "        end_date (string): A date string in the format %Y-%m-%d\n",
    "        \n",
    "    Returns:\n",
    "        TMIN, TAVE, and TMAX\n",
    "    \"\"\"\n",
    "    \n",
    "    return session.query(func.min(Measurement.tobs), func.avg(Measurement.tobs), func.max(Measurement.tobs)).\\\n",
    "        filter(Measurement.date >= start_date).filter(Measurement.date <= end_date).all()\n",
    "\n",
    "# For example\n",
    "# print(calc_temps('2012-02-28', '2012-03-05'))"
   ]
  },
  {
   "cell_type": "code",
   "execution_count": 10,
   "metadata": {},
   "outputs": [
    {
     "name": "stdout",
     "output_type": "stream",
     "text": [
      "Temperatures from 2016-08-01 to 2017-08-01:\n",
      "   tmin = 58.00 °F\n",
      "   tavg = 74.64 °F\n",
      "   tmax = 87.00 °F\n"
     ]
    }
   ],
   "source": [
    "# Use the function `calc_temps` to calculate the tmin, tavg, and tmax \n",
    "# for a year in the data set\n",
    "\n",
    "## Set start of vacation date\n",
    "start_date = '2017-08-01'\n",
    "\n",
    "## Compute one year from start date\n",
    "minus_one_year = dt.datetime.strptime(start_date, \"%Y-%m-%d\").date() - relativedelta(years=1)\n",
    "minus_one_year = dt.datetime.strftime(minus_one_year, \"%Y-%m-%d\")\n",
    "\n",
    "## Get tmin, tavg & tmax for one year\n",
    "tmin, tavg, tmax = calc_temps(minus_one_year, start_date)[0]\n",
    "\n",
    "## Print results\n",
    "print(f\"Temperatures from {minus_one_year} to {start_date}:\")\n",
    "print(f\"   tmin = {tmin:.2f} °F\")\n",
    "print(f\"   tavg = {tavg:.2f} °F\")\n",
    "print(f\"   tmax = {tmax:.2f} °F\")"
   ]
  },
  {
   "cell_type": "code",
   "execution_count": 11,
   "metadata": {},
   "outputs": [
    {
     "data": {
      "image/png": "[encoded data removed]",
      "text/plain": [
       "<Figure size 180x432 with 1 Axes>"
      ]
     },
     "metadata": {},
     "output_type": "display_data"
    }
   ],
   "source": [
    "# Plot the results from your previous query as a bar chart. \n",
    "# Use \"Trip Avg Temp\" as your Title\n",
    "# Use the average temperature for bar height (y value)\n",
    "# Use the peak-to-peak (tmax-tmin) value as the y error bar (yerr)\n",
    "\n",
    "## Compute error bar (+/-) value\n",
    "yerr = (tmax-tmin)/2\n",
    "\n",
    "## Set figure size\n",
    "plt.figure(figsize=(2.5,6))\n",
    "\n",
    "## Plot bar chart\n",
    "plt.bar(x=.5, height=tavg, width=0.6, yerr=yerr, color='red', alpha=0.25)\n",
    "\n",
    "## Set plot title and labels\n",
    "plt.title(\"Trip Avg Temp\", pad=15, fontsize=\"large\")\n",
    "plt.ylabel(\"Temperature [°F]\", labelpad=10, fontsize=\"medium\")\n",
    "\n",
    "## Set limits & Format ticks\n",
    "plt.xlim(0,1)\n",
    "plt.ylim(0,100+5)\n",
    "plt.xticks(ticks=[])\n",
    "plt.yticks(ticks=range(0,100+1,20), size=\"x-small\")\n",
    "\n",
    "## Save & Display plot\n",
    "plt.savefig('Images/Trip_Avg_Temp.png', bbox_inches='tight')\n",
    "plt.show()"
   ]
  },
  {
   "cell_type": "markdown",
   "metadata": {},
   "source": [
    "### Daily Rainfall Average"
   ]
  },
  {
   "cell_type": "code",
   "execution_count": 12,
   "metadata": {},
   "outputs": [
    {
     "data": {
      "text/html": [
       "<div>\n",
       "<style scoped>\n",
       "    .dataframe tbody tr th:only-of-type {\n",
       "        vertical-align: middle;\n",
       "    }\n",
       "\n",
       "    .dataframe tbody tr th {\n",
       "        vertical-align: top;\n",
       "    }\n",
       "\n",
       "    .dataframe thead th {\n",
       "        text-align: right;\n",
       "    }\n",
       "</style>\n",
       "<table border=\"1\" class=\"dataframe\">\n",
       "  <thead>\n",
       "    <tr style=\"text-align: right;\">\n",
       "      <th></th>\n",
       "      <th>station</th>\n",
       "      <th>name</th>\n",
       "      <th>latitude</th>\n",
       "      <th>longitude</th>\n",
       "      <th>elevation</th>\n",
       "      <th>total rainfall</th>\n",
       "    </tr>\n",
       "  </thead>\n",
       "  <tbody>\n",
       "    <tr>\n",
       "      <th>0</th>\n",
       "      <td>USC00516128</td>\n",
       "      <td>MANOA LYON ARBO 785.2, HI US</td>\n",
       "      <td>21.33310</td>\n",
       "      <td>-157.80250</td>\n",
       "      <td>152.4</td>\n",
       "      <td>157.91</td>\n",
       "    </tr>\n",
       "    <tr>\n",
       "      <th>1</th>\n",
       "      <td>USC00519281</td>\n",
       "      <td>WAIHEE 837.5, HI US</td>\n",
       "      <td>21.45167</td>\n",
       "      <td>-157.84889</td>\n",
       "      <td>32.9</td>\n",
       "      <td>79.49</td>\n",
       "    </tr>\n",
       "    <tr>\n",
       "      <th>2</th>\n",
       "      <td>USC00513117</td>\n",
       "      <td>KANEOHE 838.1, HI US</td>\n",
       "      <td>21.42340</td>\n",
       "      <td>-157.80150</td>\n",
       "      <td>14.6</td>\n",
       "      <td>54.39</td>\n",
       "    </tr>\n",
       "    <tr>\n",
       "      <th>3</th>\n",
       "      <td>USC00519523</td>\n",
       "      <td>WAIMANALO EXPERIMENTAL FARM, HI US</td>\n",
       "      <td>21.33556</td>\n",
       "      <td>-157.71139</td>\n",
       "      <td>19.5</td>\n",
       "      <td>39.80</td>\n",
       "    </tr>\n",
       "    <tr>\n",
       "      <th>4</th>\n",
       "      <td>USC00514830</td>\n",
       "      <td>KUALOA RANCH HEADQUARTERS 886.9, HI US</td>\n",
       "      <td>21.52130</td>\n",
       "      <td>-157.83740</td>\n",
       "      <td>7.0</td>\n",
       "      <td>34.26</td>\n",
       "    </tr>\n",
       "    <tr>\n",
       "      <th>5</th>\n",
       "      <td>USC00519397</td>\n",
       "      <td>WAIKIKI 717.2, HI US</td>\n",
       "      <td>21.27160</td>\n",
       "      <td>-157.81680</td>\n",
       "      <td>3.0</td>\n",
       "      <td>17.20</td>\n",
       "    </tr>\n",
       "    <tr>\n",
       "      <th>6</th>\n",
       "      <td>USC00517948</td>\n",
       "      <td>PEARL CITY, HI US</td>\n",
       "      <td>21.39340</td>\n",
       "      <td>-157.97510</td>\n",
       "      <td>11.9</td>\n",
       "      <td>4.77</td>\n",
       "    </tr>\n",
       "  </tbody>\n",
       "</table>\n",
       "</div>"
      ],
      "text/plain": [
       "       station                                    name  latitude  longitude  \\\n",
       "0  USC00516128            MANOA LYON ARBO 785.2, HI US  21.33310 -157.80250   \n",
       "1  USC00519281                     WAIHEE 837.5, HI US  21.45167 -157.84889   \n",
       "2  USC00513117                    KANEOHE 838.1, HI US  21.42340 -157.80150   \n",
       "3  USC00519523      WAIMANALO EXPERIMENTAL FARM, HI US  21.33556 -157.71139   \n",
       "4  USC00514830  KUALOA RANCH HEADQUARTERS 886.9, HI US  21.52130 -157.83740   \n",
       "5  USC00519397                    WAIKIKI 717.2, HI US  21.27160 -157.81680   \n",
       "6  USC00517948                       PEARL CITY, HI US  21.39340 -157.97510   \n",
       "\n",
       "   elevation  total rainfall  \n",
       "0      152.4          157.91  \n",
       "1       32.9           79.49  \n",
       "2       14.6           54.39  \n",
       "3       19.5           39.80  \n",
       "4        7.0           34.26  \n",
       "5        3.0           17.20  \n",
       "6       11.9            4.77  "
      ]
     },
     "execution_count": 12,
     "metadata": {},
     "output_type": "execute_result"
    }
   ],
   "source": [
    "# Calculate the total amount of rainfall per weather station for your trip dates using the previous year's \n",
    "# matching dates.\n",
    "# Sort this in descending order by precipitation amount and list the station, name, latitude, longitude, and elevation\n",
    "\n",
    "## Select query columns\n",
    "slct = [Station.station,\n",
    "        Station.name,\n",
    "        Station.latitude,\n",
    "        Station.longitude,\n",
    "        Station.elevation,\n",
    "        func.sum(Measurement.prcp).label('total rainfall')]\n",
    "\n",
    "## Declare query statement\n",
    "stmt = session.query(*slct).\\\n",
    "    filter(Measurement.station == Station.station).\\\n",
    "    filter(Measurement.date >= minus_one_year).\\\n",
    "    filter(Measurement.date <= start_date).\\\n",
    "    group_by(Station.station).\\\n",
    "    order_by(func.sum(Measurement.prcp).desc()).statement\n",
    "\n",
    "## Store query results into DataFrame\n",
    "rainfall_totals_df = pd.read_sql(stmt, session.bind)\n",
    "\n",
    "## Display DataFrame\n",
    "rainfall_totals_df"
   ]
  },
  {
   "cell_type": "code",
   "execution_count": 13,
   "metadata": {},
   "outputs": [],
   "source": [
    "# Use this function to calculate the daily normals \n",
    "# (i.e. the averages for tmin, tmax, and tavg for all historic data matching a specific month and day)\n",
    "\n",
    "def daily_normals(date):\n",
    "    \"\"\"Daily Normals.\n",
    "    \n",
    "    Args:\n",
    "        date (str): A date string in the format '%m-%d'\n",
    "        \n",
    "    Returns:\n",
    "        A list of tuples containing the daily normals, tmin, tavg, and tmax\n",
    "    \n",
    "    \"\"\"\n",
    "    \n",
    "    sel = [func.min(Measurement.tobs), func.avg(Measurement.tobs), func.max(Measurement.tobs)]\n",
    "    return session.query(*sel).filter(func.strftime(\"%m-%d\", Measurement.date) == date).all()\n",
    "\n",
    "# For example\n",
    "# daily_normals(\"01-01\")"
   ]
  },
  {
   "cell_type": "code",
   "execution_count": 14,
   "metadata": {},
   "outputs": [],
   "source": [
    "# calculate the daily normals for your trip\n",
    "# push each tuple of calculations into a list called `normals`\n",
    "\n",
    "# Set the start and end date of the trip\n",
    "start_date = '2017-08-01'\n",
    "end_date = '2017-08-07'\n",
    "\n",
    "# Use the start and end date to create a range of dates\n",
    "start = dt.datetime.strptime(start_date, \"%Y-%m-%d\").date()\n",
    "end = dt.datetime.strptime(end_date, \"%Y-%m-%d\").date()\n",
    "date_range = [start + dt.timedelta(days=i) for i in range(0, (end-start).days+1)]\n",
    "\n",
    "# Strip off the year and save a list of strings in the format %m-%d\n",
    "string_list = [date_range[i].strftime(\"%m-%d\") for i in range(len(date_range))]\n",
    "\n",
    "# Use the `daily_normals` function to calculate the normals for each date string \n",
    "# and append the results to a list called `normals`.\n",
    "normals = []\n",
    "for string in string_list:\n",
    "    normals.append(np.ravel(daily_normals(string)))"
   ]
  },
  {
   "cell_type": "code",
   "execution_count": 15,
   "metadata": {},
   "outputs": [
    {
     "data": {
      "text/html": [
       "<style  type=\"text/css\" >\n",
       "</style><table id=\"T_aee21_\" ><thead>    <tr>        <th class=\"blank level0\" ></th>        <th class=\"col_heading level0 col0\" >tmin</th>        <th class=\"col_heading level0 col1\" >tavg</th>        <th class=\"col_heading level0 col2\" >tmax</th>    </tr></thead><tbody>\n",
       "                <tr>\n",
       "                        <th id=\"T_aee21_level0_row0\" class=\"row_heading level0 row0\" >2017-08-01</th>\n",
       "                        <td id=\"T_aee21_row0_col0\" class=\"data row0 col0\" >67.00</td>\n",
       "                        <td id=\"T_aee21_row0_col1\" class=\"data row0 col1\" >75.54</td>\n",
       "                        <td id=\"T_aee21_row0_col2\" class=\"data row0 col2\" >83.00</td>\n",
       "            </tr>\n",
       "            <tr>\n",
       "                        <th id=\"T_aee21_level0_row1\" class=\"row_heading level0 row1\" >2017-08-02</th>\n",
       "                        <td id=\"T_aee21_row1_col0\" class=\"data row1 col0\" >68.00</td>\n",
       "                        <td id=\"T_aee21_row1_col1\" class=\"data row1 col1\" >75.60</td>\n",
       "                        <td id=\"T_aee21_row1_col2\" class=\"data row1 col2\" >84.00</td>\n",
       "            </tr>\n",
       "            <tr>\n",
       "                        <th id=\"T_aee21_level0_row2\" class=\"row_heading level0 row2\" >2017-08-03</th>\n",
       "                        <td id=\"T_aee21_row2_col0\" class=\"data row2 col0\" >70.00</td>\n",
       "                        <td id=\"T_aee21_row2_col1\" class=\"data row2 col1\" >76.61</td>\n",
       "                        <td id=\"T_aee21_row2_col2\" class=\"data row2 col2\" >85.00</td>\n",
       "            </tr>\n",
       "            <tr>\n",
       "                        <th id=\"T_aee21_level0_row3\" class=\"row_heading level0 row3\" >2017-08-04</th>\n",
       "                        <td id=\"T_aee21_row3_col0\" class=\"data row3 col0\" >69.00</td>\n",
       "                        <td id=\"T_aee21_row3_col1\" class=\"data row3 col1\" >76.71</td>\n",
       "                        <td id=\"T_aee21_row3_col2\" class=\"data row3 col2\" >84.00</td>\n",
       "            </tr>\n",
       "            <tr>\n",
       "                        <th id=\"T_aee21_level0_row4\" class=\"row_heading level0 row4\" >2017-08-05</th>\n",
       "                        <td id=\"T_aee21_row4_col0\" class=\"data row4 col0\" >69.00</td>\n",
       "                        <td id=\"T_aee21_row4_col1\" class=\"data row4 col1\" >76.15</td>\n",
       "                        <td id=\"T_aee21_row4_col2\" class=\"data row4 col2\" >82.00</td>\n",
       "            </tr>\n",
       "            <tr>\n",
       "                        <th id=\"T_aee21_level0_row5\" class=\"row_heading level0 row5\" >2017-08-06</th>\n",
       "                        <td id=\"T_aee21_row5_col0\" class=\"data row5 col0\" >67.00</td>\n",
       "                        <td id=\"T_aee21_row5_col1\" class=\"data row5 col1\" >76.25</td>\n",
       "                        <td id=\"T_aee21_row5_col2\" class=\"data row5 col2\" >83.00</td>\n",
       "            </tr>\n",
       "            <tr>\n",
       "                        <th id=\"T_aee21_level0_row6\" class=\"row_heading level0 row6\" >2017-08-07</th>\n",
       "                        <td id=\"T_aee21_row6_col0\" class=\"data row6 col0\" >71.00</td>\n",
       "                        <td id=\"T_aee21_row6_col1\" class=\"data row6 col1\" >77.16</td>\n",
       "                        <td id=\"T_aee21_row6_col2\" class=\"data row6 col2\" >83.00</td>\n",
       "            </tr>\n",
       "    </tbody></table>"
      ],
      "text/plain": [
       "<pandas.io.formats.style.Styler at 0x1dc1e812760>"
      ]
     },
     "execution_count": 15,
     "metadata": {},
     "output_type": "execute_result"
    }
   ],
   "source": [
    "# Load the previous query results into a Pandas DataFrame and add the `trip_dates` range as the `date` index\n",
    "normals_df = pd.DataFrame(normals, index=date_range, columns=['tmin', 'tavg', 'tmax'])\n",
    "\n",
    "# Display Dataframe (with style)\n",
    "normals_df.style.format('{:.2f}')"
   ]
  },
  {
   "cell_type": "code",
   "execution_count": 36,
   "metadata": {},
   "outputs": [
    {
     "data": {
      "image/png": "[encoded data removed]",
      "text/plain": [
       "<Figure size 612x432 with 1 Axes>"
      ]
     },
     "metadata": {},
     "output_type": "display_data"
    }
   ],
   "source": [
    "## Plot daily normals as an area plot (stacked=False)\n",
    "normals_df.plot(figsize=(8.5,6), kind='area', stacked=False, alpha=0.25, rot=90)\n",
    "\n",
    "## Set plot title and labels\n",
    "plt.title(\"Daily Normals\", pad=15, fontsize=\"large\")\n",
    "plt.xlabel(\"Date\", labelpad=10, fontsize=\"medium\")\n",
    "plt.ylabel(\"Temperature [°F]\", labelpad=10, fontsize=\"medium\")\n",
    "\n",
    "## Format ticks\n",
    "plt.xticks(rotation=60, fontsize=\"small\")\n",
    "plt.yticks(fontsize=\"small\")\n",
    "\n",
    "## Set legend\n",
    "plt.legend(loc='lower left', bbox_to_anchor=(0.05,0.01))\n",
    "\n",
    "## Save & Display plot\n",
    "plt.savefig('Images/Daily_Normals.png', bbox_inches='tight')\n",
    "plt.show()"
   ]
  },
  {
   "cell_type": "markdown",
   "metadata": {},
   "source": [
    "## Close Session"
   ]
  },
  {
   "cell_type": "code",
   "execution_count": 17,
   "metadata": {},
   "outputs": [],
   "source": [
    "# Close Session\n",
    "session.close()"
   ]
  }
 ],
 "metadata": {
  "kernelspec": {
   "display_name": "Python 3",
   "language": "python",
   "name": "python3"
  },
  "language_info": {
   "codemirror_mode": {
    "name": "ipython",
    "version": 3
   },
   "file_extension": ".py",
   "mimetype": "text/x-python",
   "name": "python",
   "nbconvert_exporter": "python",
   "pygments_lexer": "ipython3",
   "version": "3.8.8"
  }
 },
 "nbformat": 4,
 "nbformat_minor": 4
}
